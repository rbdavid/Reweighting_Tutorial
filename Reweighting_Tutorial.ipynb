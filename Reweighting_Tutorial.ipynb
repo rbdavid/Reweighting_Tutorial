{
 "cells": [
  {
   "cell_type": "markdown",
   "metadata": {},
   "source": [
    "# Reweighting Tutorial\n",
    "So, you've done some enhanced sampling simulations, applying a biased potential to a certain collective variable. For whatever reason, you now want to quantify the free energy surface of the modeled event in a collective variable that is not the biased CV. Having applied an artificial bias to the simulations, you cannot simply calculate the probability density of the CV of interest and convert to free energy. Instead, each frame's weight in the probability density must be measured based on the weight that the frame received in the biased CV space. \n",
    "## 1) Run EMUS or WHAM to get stitching constants in the biased CV FE surfaces\n",
    "Before any analysis of the new CV can be done, we need to perform a free energy analysis (using either EMUS or WHAM; suggested to use EMUS) of the biased CV space to obtain the \"stitching\" or \"normalization\" constant for each window in the baised CV space. This constant is important when reweighting the biased sampling into a new collective variable space. \n",
    "## 2) Histogram new collective variable data, adding the reweighted counts to the respective histogram bin to calculate the probability density. \n",
    "The code in this repo currently assumes frames are independent (no analysis of autocorrelation is used). Each frame's weight is added to a bin based on its respective new CV value. The weight of a frame is calculated using the frame's biased CV value, the stitching constants from the last step, and the equilibrium constants used for each window of the biased simulations. The total weight of a frame is the sum of \n",
    "## 3) Either apply or don't apply a volume correction to the probability density of the new CV space. \n",
    "\n",
    "## 4) Convert prob. density to free energy.\n",
    "\n",
    "## 5) Perform plotting during each of these steps to function as a sanity check. \n"
   ]
  },
  {
   "cell_type": "code",
   "execution_count": null,
   "metadata": {},
   "outputs": [],
   "source": []
  },
  {
   "cell_type": "code",
   "execution_count": null,
   "metadata": {},
   "outputs": [],
   "source": [
    "import IO\n",
    "import os\n",
    "import numpy as np\n",
    "import numpy.ma as ma\n",
    "import matplotlib.pyplot as plt\n",
    "from emus import emus, avar, usutils\n",
    "\n",
    "config_file = '2d_reweighting.config'"
   ]
  },
  {
   "cell_type": "code",
   "execution_count": null,
   "metadata": {},
   "outputs": [],
   "source": [
    "parameters = {}\n",
    "IO.config_parser(config_file,parameters)"
   ]
  },
  {
   "cell_type": "code",
   "execution_count": null,
   "metadata": {},
   "outputs": [],
   "source": []
  }
 ],
 "metadata": {
  "kernelspec": {
   "display_name": "Python 3",
   "language": "python",
   "name": "python3"
  },
  "language_info": {
   "codemirror_mode": {
    "name": "ipython",
    "version": 3
   },
   "file_extension": ".py",
   "mimetype": "text/x-python",
   "name": "python",
   "nbconvert_exporter": "python",
   "pygments_lexer": "ipython3",
   "version": "3.8.1"
  }
 },
 "nbformat": 4,
 "nbformat_minor": 2
}
